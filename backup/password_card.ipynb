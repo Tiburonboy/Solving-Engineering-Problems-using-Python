{
 "cells": [
  {
   "cell_type": "raw",
   "metadata": {},
   "source": [
    "---\n",
    "title: Password card\n",
    "format: \n",
    "    html:\n",
    "        code-fold: false\n",
    "        embed-resources: true\n",
    "        code-tools: true\n",
    "jupyter: python3\n",
    "---"
   ]
  },
  {
   "cell_type": "markdown",
   "metadata": {},
   "source": [
    "last update: 2 Feb 2023  \n",
    "\n",
    "## Abstract\n",
    "This notebook describes the use of a password card and the Python code that generates the password card. The password card is a grid of random letters, numbers and special characters that provides a convenient aid to generate and remember long and complex passwords. A basic description of the password card and instructions are provided along with the Python code used to generate the password card. A security analysis and an analysis of alternatives is provided. \n",
    "\n",
    "## Motivation\n",
    "Coming up with secure passwords and remembering a unique password for each account is a challenge. The safest way to store your passwords is to memorize them, but for long and complex passwords this is not practical. Passwords that humans can remember and use are guessable. The password card described in this notebook is a paper card that once generated is off-line, an independent record of your passwords and is protected by a secret word that you memorize. In one sense, the password card is a [Password manager](https://en.wikipedia.org/wiki/Password_manager), but it is not computerized.\n",
    "\n",
    "## Introduction\n",
    "This notebook describes the generation and use of a password card similar to the card called \"C@RD\", a laminated card sold by [Russtopia Labs](https://russtopialabs.bigcartel.com/product/c-rdtm-password-generator-recall-card) for \\$4.25. The password card provides an easy way to generate and remember long and complex passwords. The version of the card described here has the upper case letters of the alphabet printed on line number one of the card. The card consists of an array of letters, numbers and special characters that can be used as passwords for web pages and can be printed on a credit-card sized piece of paper which can be laminated and carried in your wallet or pocket. A sample card is shown below:\n",
    "\n",
    "<img src=\"password_card_example.png\" width=\"350\">  \n",
    "\n",
    "The first three rows are the upper case letters of the alphabet, the lower case letters, the special characters and numbers used on the card. All the characters used in the passwords are printed here as a reference since for some fonts, some characters are hard to distinguish, for example, l and 1. Rows four through nine are random combinations of the letters of the alphabet, numbers and special characters. The columns of rows four through nine contain the characters used in the passwords and each column contains at least one uppercase letter, one lowercase letter, one digit and one special character in addition to two randomly selected characters, for a total of six characters. The last row on the card is a random sequence of numbers that can be used for numerical PINs. \n",
    "\n",
    "The passwords for your accounts are generated from two parts, the first part of your password comes from the card, the second part is a secret word, committed to memory, consisting of a combination of letters, numbers or special characters that only you know. When combined, the combination yields passwords which are complex and of adequate length for most applications.\n",
    "\n",
    "Good passwords have the following characteristics:  \n",
    "\n",
    "- They do not contain personal information or common words  \n",
    "- They do not contain words or phrases from songs lyrics, poetry, literature etc.  \n",
    "- They are long enough to resist brute force guessing attacks from current and future password cracking systems  \n",
    "- They are not from a list of previously compromised passwords e.g. names, names with numbers or symbols, words from dictionaries etc.  \n",
    "- They do not contain simple substitutions such as @ for a, 5 or \\$ for s, 1 for i, etc.  \n",
    "\n",
    "Which implies that the password should be random, not easily guessed and as a result can be hard to memorize. \n",
    "\n",
    "### Unique passwords for each account\n",
    "Each account should have a unique password. If the same password is used for multiple accounts, then all accounts using that same password are vulnerable if your reused password is compromised. This advice is almost universally given by security experts and journalists who write on the subject. [Credential stuffing](https://en.wikipedia.org/wiki/Credential_stuffing) is a type of cyber attack in which the attacker collects stolen account credentials, typically consisting of lists of usernames and/or email addresses and the corresponding passwords (often from a data breach), and then uses the credentials to gain unauthorized access to user accounts on other systems through large-scale automated login requests directed against a web application. Unlike credential cracking, credential stuffing attacks do not attempt to use brute force or guess any passwords – the attacker simply automates the logins for a large number (thousands to millions) of previously discovered credential pairs using standard web automation tools. The best way to protect against credential stuffing is to use unique passwords on accounts.\n",
    "\n",
    "### Other password cards\n",
    "The following are links to other types of password cards.  \n",
    "\n",
    "- [PasswordCard](https://www.passwordcard.org/en): The user picks a row and column and reads the password in the direction chosen. Could be left, right or diagonal.  \n",
    "- [Password card generator](https://www.averk.net/passgen.html): You can pick on a row, a column, click on random characters and/or draw images on your Password Card that are easy to remember.  \n",
    "- [PassCard](https://github.com/cryptofuture/PassCard): similar to PasswordCard above  \n",
    "- [PasswordWrench](https://www.passwordwrench.com/Public/OnlinePasswordGenerator): similar to  Password card generator above  \n",
    "- [Qwertycards](https://www.qwertycards.com/): the password is a character substitution cipher of the web site's name.  \n",
    "\n",
    "### Canadian patent\n",
    "The \"C@RD\" from Russtopia Labs was designed and patented in Canada and was protected under Canadian patent number [2,895,597](https://www.ic.gc.ca/opic-cipo/cpd/eng/patent/2895597/summary.html?type=number_search&tabs1Index=tabs1_1). In 2016 and 2019 the patent expired due to failure to respond and failure to pay application maintenance fee.\n",
    "\n",
    "## Password card instructions\n",
    "Instructions for the use of the card are provided by Russtopia Labs and are summarized here.\n",
    "\n",
    "1. Choose a secret word or phrase known only to you. This ensures that even if your password card is lost or stolen, no one will know the full password you generate from the card.  \n",
    "2. Using the first two letters of the website or name of the company holding your account, choose the appropriate columns and read downwards in rows four through six. Every column has at least one letter (both upper- and lower-case), a digit and a special character.  \n",
    "\n",
    "The image below, shows the card with sections highlighted in colored boxes. \n",
    "\n",
    "<img src=\"password_card_example1.png\" width=\"350\">  \n",
    "\n",
    "Passwords are generated by using the first two letters of the website or company holding your account and then reading down the columns of rows four through six. If the web site is amazon.com, choose columns \"A\" and \"M\", and read the characters from rows four through six. These are highlighted in the black and blue boxes. In column \"A\" (in blue), the characters are \"8@%yP!\", and in column \"M\" (in black), the characters are \"kfoC?2\". If your personal secret word is \"apple\", then the full password for your amazon account would be \"8@%yP!kfoC?2apple\", which is a complex 17 character password containing upper and lower case letters, digits and special characters. Since you know the procedure, you don't have to remember the 17 characters, just use the procedure along with your card to reconstruct your password.\n",
    "\n",
    "### Rotating passwords\n",
    "For rotating passwords, add two characters from rows four and five of numbered columns in row 3, (01=Jan), (02=Feb), for each month. (eg., \n",
    "in row four, two characters in column for 1st month digit, then two characters in column for 2nd month digit, February=02, under 0 in row four, read \"5e\". Then under 2 in row five, read \"dA\" and prefix to password. The resulting password would be \"5edA\" plus the remaining base password, \"5edA8#&yP!kfoC?2apple\". In three months or whenever the password expires, use the month to generate a new prefix. This is the procedure outlined by Russtopia Labs.\n",
    "\n",
    "Some sites will check to see if the new password is sufficiently different than, say for example, the last ten passwords used. If the passwords are stored as a hashed value, then any difference, even one character difference would be sufficient. But if the prior passwords are stored as plain text or in an encrypted file, the system could check the degree of difference between old passwords and the new one. So if the site is enforcing a new password that is different from your old password by some amount of characters, then the following procedure can be used.\n",
    "\n",
    "At the beginning of the year, in January for example, if a new password is required, construct the new password as follows:\n",
    "- The months are numbered from 1 to C as shown in the table below and the characters are from the column under that month number or letter. So in January, month number 1, use the characters from column 1 which are: 3bXz%f.\n",
    "- The next characters are from column A and M (for Amazon), but only three characters from each column are used: A = 8@% and M = kfo.\n",
    "- Then append your secret word.\n",
    "\n",
    "| month | col # | col chars | A col | M col | secret word |\n",
    "|-------|:-----:|:---------:|:-----:|:-----:|:-----------:|\n",
    "| Jan | 1 | 3bXz%f | 8@% | kfo | apple |\n",
    "| Feb | 2 | dAk)\\$1 | 8@% | kfo | apple |\n",
    "| Mar | 3 | ?y(1?J | 8@% | kfo | apple |\n",
    "| Apr | 4 | *-1@Ui | 8@% | kfo | apple |\n",
    "| May | 5 | 66!A$b | 8@% | kfo | apple |\n",
    "| Jun | 6 | &jcPQ6 | 8@% | kfo | apple |\n",
    "| Jul | 7 | mrc3B# | 8@% | kfo | apple |\n",
    "| Aug | 8 | ><^nJ7 | 8@% | kfo | apple |\n",
    "| Sep | 9 | 5DktW< | 8@% | kfo | apple |\n",
    "| Oct | A | 8@%yP! | 8@% | kfo | apple |\n",
    "| Nov | B | X4Mz+b | 8@% | kfo | apple |\n",
    "| Dec | C | ax!p2M | 8@% | kfo | apple |\n",
    "\n",
    "A new password for January would be: 3bXz%f8@%kfoapple. In April, if the password has to be changed, it would be: *-1@Ui8@%kfoapple. You only  need to remember in which month you created the new password.\n",
    "\n",
    "### Numeric PIN\n",
    "For a numeric PIN, pick a letter and start with that number in the random number row. For example, if your bank is Commerce Bank, under the letter \"C\" in the first row, the PIN numbers are \"141845\" (red highlight). You can use four numbers if you want.\n",
    "\n",
    "For sites that restrict the number of characters in the password, choose a 4-letter secret word and only read the first two or three symbols from each column in Step 2) above. This will give you an 8 or 10 character password to meet password restrictions of old systems.\n",
    "\n",
    "### Restricted characters\n",
    "For sites with restrict the use of special characters, read the columns as usual but each time you encounter a prohibited special character, use a letter instead (for example, \"<\" becomes \"n\", \">\" becomes \"o\" etc.) which are the letters in row two directly above the special characters in row three.\n",
    "\n",
    "If the website or account has repeated letters, for example \"aa.com\", this would result in using the same column \"a\" twice, which according to the original procedure is acceptable. However if you feel uncomfortable using a password with any repeated sequences, shift to the left or right adjacent column for the second letter – in essence treating \"aa\" as \"ab\" (second \"a\" becomes \"b\").\n",
    "\n",
    "Typically, a user would keep a list of web page names and the corresponding user name, web site letter code and notes. The user would refer to this list for websites that are not often used or have restricted characters. The user would refer to the list until it became committed to memory. \n",
    "\n",
    "### Secret word selection\n",
    "The purpose of the secret word is to keep at least part of your password secret in the event that someone finds your password card. The secret word part is memorized and not written down anywhere. In the examples above, the secret word used was \"apple\". You should use something different.\n",
    "\n",
    "There are about 255 thousand defined words in the [Merriam-Webster's Collegiate Dictionary](https://www.amazon.com/Merriam-Websters-Collegiate-Dictionary-Laminated-Cover/dp/0877798079) English dictionary, choosing one random word out of a dictionary provides about 17 bits of entropy. Your secret word should have at least 30 bits of entropy, in order to prove a modest level of security. One random word would provide a bit of security that might keep a nosy family member out of your email account if they \"borrowed\" your password card. Two random words concatenated would provide about 35 bits of entropy, enough to keep even the most determined family member out of your email account. For example the two words, \"program\" and \"blind\" could be concatenated to generate a secret passphrase, \"programblind\". \n",
    "\n",
    "Multiple random words concatenated is called a [passphrase](https://en.wikipedia.org/wiki/Passphrase). The more words that are in the passphrase, the more secure it is, but harder to memorize. To prevent personal bias from affecting your choice of words you could use [dice](https://www.amazon.com/Bicycle-Dice-10-Die-Package/dp/B00508ZS40/ref=sr_1_2?crid=1EH91YNU25KT2&keywords=Bicycle+Dice%2C+10+Count&qid=1671131991&sprefix=bicycle+dice%2C+10+count%2Caps%2C139&sr=8-2) to aid in choosing words from the dictionary. Roll some dice and choose a dictionary page number based on the dice rolls. Roll the dice some more and choose a word on the page. Repeat until you have the number of words you want. One way to harden short passphrases is to mangle the passphase, for example \"programblind\" could be mangled to be \"pRogram=bli2nd\". Not impossible to memorize, but nearly impossible to guess. With the password card, \"pRogram=bli2nd\" is the only part you need to commit to memory. \n",
    "\n",
    "## Python Code\n",
    "This section of the notebook contains the Python code used to generate the password card. The Python library [Secrets](https://docs.python.org/3/library/secrets.html) is used to randomly choose elements from the character set. The secrets module is used for generating cryptographically strong random numbers suitable for managing data such as passwords, account authentication, security tokens, and related secrets. \n",
    "\n",
    "The Python code described below can be used to generate a unique card for each person. "
   ]
  },
  {
   "cell_type": "code",
   "execution_count": 66,
   "metadata": {},
   "outputs": [],
   "source": [
    "import math\n",
    "import sys\n",
    "import re\n",
    "import hashlib\n",
    "import secrets\n",
    "gen = secrets.SystemRandom()\n",
    "from collections import Counter\n",
    "import matplotlib.pyplot as plt"
   ]
  },
  {
   "cell_type": "code",
   "execution_count": 67,
   "metadata": {},
   "outputs": [],
   "source": [
    "from sympy.solvers import solve\n",
    "from sympy import Symbol"
   ]
  },
  {
   "cell_type": "markdown",
   "metadata": {},
   "source": [
    "### Character set\n",
    "The following characters are used in the password card. Upper and lowercase letters of the alphabet, the digits 0 to 9, as well as the so-called special characters are used. A special character is one that is not considered a number or letter. Special characters are often required when creating a strong password. This is because they add complexity to the password.  There are 33 characters classified as [ASCII](https://en.wikipedia.org/wiki/ASCII) punctuation and symbols are also sometimes referred to as ASCII special characters.\n",
    "\n",
    "The special characters used in this notebook are: !@#$%^&*()-+=<>?  \n",
    "\n",
    "However, other characters from the keys on a typical US standard keyboard could also be used: ~!@#$%^&*()_+-=,./<>?;':\"[]\\{}|  \n",
    "Any of these could be easily substituted to give the password card additional variation. Up to 16 special characters will fit into the scheme."
   ]
  },
  {
   "cell_type": "code",
   "execution_count": 68,
   "metadata": {},
   "outputs": [
    {
     "name": "stdout",
     "output_type": "stream",
     "text": [
      "character set size: 78\n"
     ]
    }
   ],
   "source": [
    "lower = 'abcdefghijklmnopqrstuvwxyz'\n",
    "upper = 'ABCDEFGHIJKLMNOPQRSTUVWXYZ'\n",
    "digits = '0123456789'\n",
    "special = '!@#$%^&*()-+=<>?'\n",
    "char_set_size = len(upper)+len(lower)+len(digits)+len(special)\n",
    "print('character set size: {:d}'.format(char_set_size))"
   ]
  },
  {
   "cell_type": "markdown",
   "metadata": {},
   "source": [
    "### Set the number of rows\n",
    "The number of rows in the random part of the password card is set to 6, as in the original card. Variations of the password card could be made with a different number of rows."
   ]
  },
  {
   "cell_type": "code",
   "execution_count": 69,
   "metadata": {},
   "outputs": [],
   "source": [
    "num_rows = 6"
   ]
  },
  {
   "cell_type": "markdown",
   "metadata": {},
   "source": [
    "### Print character sets as first three lines of the card\n",
    "This provides a visual reference since in some fonts characters l and 1, and 0 and O, are hard to tell apart."
   ]
  },
  {
   "cell_type": "code",
   "execution_count": 70,
   "metadata": {},
   "outputs": [
    {
     "name": "stdout",
     "output_type": "stream",
     "text": [
      "ABCDEFGHIJKLMNOPQRSTUVWXYZ\n",
      "abcdefghijklmnopqrstuvwxyz\n",
      "!@#$%^&*()-+=<>?0123456789\n"
     ]
    }
   ],
   "source": [
    "# print character sets as first three lines of the card\n",
    "print(upper)\n",
    "print(lower)\n",
    "print(special+digits)"
   ]
  },
  {
   "cell_type": "markdown",
   "metadata": {},
   "source": [
    "### Generate the password random characters\n",
    "Every column has one upper, one lower, one digit and one special character, followed by two random characters from the complete set. And when two columns are used, the password has at least two lower case, two upper case, two digits and two special characters."
   ]
  },
  {
   "cell_type": "code",
   "execution_count": 71,
   "metadata": {},
   "outputs": [
    {
     "name": "stdout",
     "output_type": "stream",
     "text": [
      "DBpb^L#!5!EwNedd49ZGvgdZ9t\n",
      "Il2!p=%u<JXJ#Ce#>N(eO!nukb\n",
      "bd)(Kr2XJmv@i=5Bwz5F2jn5K$\n",
      "%GY18u^4A02893$s)-+$wR7%M0\n",
      "R8>uu^zEe)@T$8H7JhGI!XZh>P\n",
      "7<DH=8Jy>mScOxE2M+c6v0(-=-\n"
     ]
    }
   ],
   "source": [
    "A=[]    #make empty list for random characters\n",
    "for j in range(26):\n",
    "    temp = '' # make an empty character string\n",
    "    temp += secrets.choice(lower)\n",
    "    temp += secrets.choice(upper)\n",
    "    temp += secrets.choice(digits)    \n",
    "    temp += secrets.choice(special)      \n",
    "    # add more random characters\n",
    "    for i in range(num_rows-4):\n",
    "        temp += secrets.choice((lower + digits + upper + special))  \n",
    "    # take the list and randomize the order\n",
    "    temp = secrets.SystemRandom.sample(gen, temp, num_rows)\n",
    "    A.append(temp)\n",
    "\n",
    "#printing the rows of the password card\n",
    "for i in range(num_rows):\n",
    "    for j in range(len(lower)):\n",
    "        print(A[j][i],end='') # end='' does not print new line for each call to print\n",
    "    print()"
   ]
  },
  {
   "cell_type": "markdown",
   "metadata": {},
   "source": [
    "The block of text can be copied into a document to save the results. Every time the code above is run, a new block of random characters is generated."
   ]
  },
  {
   "cell_type": "markdown",
   "metadata": {},
   "source": [
    "### Random row of digits\n",
    "The last row in the password card is a row of random digits which can be used for PIN's."
   ]
  },
  {
   "cell_type": "code",
   "execution_count": 72,
   "metadata": {},
   "outputs": [
    {
     "name": "stdout",
     "output_type": "stream",
     "text": [
      "28463178520723307301568482\n"
     ]
    }
   ],
   "source": [
    "#print a row of random numbers\n",
    "temp = ''\n",
    "for i in range(26):\n",
    "    temp += secrets.choice(digits)\n",
    "print(temp)"
   ]
  },
  {
   "cell_type": "markdown",
   "metadata": {},
   "source": [
    "Copy the rows of the password card to a word document for formatting and printing. The card works best if every other column is highlighted to make reading easier. \n",
    "\n",
    "~~~\n",
    "ABCDEFGHIJKLMNOPQRSTUVWXYZ\n",
    "abcdefghijklmnopqrstuvwxyz\n",
    "!@#$%^&*()-+=<>?0123456789\n",
    ")0A4+^ZYwAk17%21?33F(NOo94\n",
    "72!5dFZzgCN^t9@oqiISqlq1Da\n",
    "jDbVqD3N-4<yiInG!c-0ddW$rR\n",
    "U!8!U5c0X>soys*)*Zx?M-?I?#\n",
    "bE7l7m$b9o0E&%OoFVWh$fwI%@\n",
    "EvyR-<f>?)qQD*hW2)V9457$@N\n",
    "85640243163554984484266573\n",
    "~~~\n"
   ]
  },
  {
   "cell_type": "markdown",
   "metadata": {},
   "source": [
    "### Secret word\n",
    "The secret word is the part of your password that you commit to memory. It doesn't change, you only have to memorize this part. In the example the secret word is \"apple\", but as discussed above is not sufficient. The following code uses simulated dice rolls to choose two random words from a list such as [list of English words](https://github.com/dwyl/english-words) (479k words) to construct a pass phrase and then mangles the passphrase to defend against dictionary attacks. \n",
    "\n",
    "The word list file is read in and filtered by length.  Words with spaces, all caps and punctuation are also removed from the list."
   ]
  },
  {
   "cell_type": "code",
   "execution_count": 73,
   "metadata": {},
   "outputs": [],
   "source": [
    "words = []\n",
    "min_length = 5\n",
    "max_length = 9\n",
    "valid_chars = '.'\n",
    "regexp = re.compile(\"^{0}{{{1},{2}}}$\".format(valid_chars,min_length,max_length))\n",
    "\n",
    "# read words from file into wordlist\n",
    "with open('wordlist.txt') as wlf:\n",
    "    for line in wlf:\n",
    "        thisword = line.strip()\n",
    "        if regexp.match(thisword) is not None:\n",
    "            words.append(thisword)\n",
    "\n",
    "# remove words with spaces, all caps, and words with punctuation\n",
    "temp_list = []\n",
    "for i in words:\n",
    "    if not i.isupper() and i.isalpha():\n",
    "        temp_list.append(i)"
   ]
  },
  {
   "cell_type": "markdown",
   "metadata": {},
   "source": [
    "The words in the list are shuffled since the selection later is somewhat Gaussian and would tend to pull words from the middle of the list."
   ]
  },
  {
   "cell_type": "code",
   "execution_count": 74,
   "metadata": {},
   "outputs": [],
   "source": [
    "wordlist = []\n",
    "while len(temp_list) > 0:\n",
    "    picked_item = secrets.choice(temp_list)\n",
    "    wordlist.append(picked_item)\n",
    "    temp_list.remove(picked_item)"
   ]
  },
  {
   "cell_type": "code",
   "execution_count": 75,
   "metadata": {},
   "outputs": [
    {
     "data": {
      "text/plain": [
       "True"
      ]
     },
     "execution_count": 75,
     "metadata": {},
     "output_type": "execute_result"
    }
   ],
   "source": [
    "# number of bits to use in the index\n",
    "num_bits = 15\n",
    "# check to see if word list is long enough\n",
    "len(wordlist) > 2**num_bits"
   ]
  },
  {
   "cell_type": "markdown",
   "metadata": {},
   "source": [
    "The fill list is trimmed so that the length is equal to $2^{\\text{number of bits}}$"
   ]
  },
  {
   "cell_type": "code",
   "execution_count": 76,
   "metadata": {},
   "outputs": [
    {
     "name": "stdout",
     "output_type": "stream",
     "text": [
      "number of words in the abridged word list: 32,768\n"
     ]
    }
   ],
   "source": [
    "abridged_wordlist = wordlist[0:2**num_bits]\n",
    "print('number of words in the abridged word list: {:,.0f}'.format(len(abridged_wordlist)))"
   ]
  },
  {
   "cell_type": "markdown",
   "metadata": {},
   "source": [
    "The first 150 words in the abridge_wordlist are:"
   ]
  },
  {
   "cell_type": "code",
   "execution_count": 77,
   "metadata": {},
   "outputs": [
    {
     "name": "stdout",
     "output_type": "stream",
     "text": [
      "unholy grasp bucketful Phrygia worthily progeny Sporades reprimand thank Saroyan dimorphic muddler deadbolt ablative Cameroun \n",
      "squid dyestuff arisen bedbug trimmer writhe filled telegraph annoyed buddy gerbil chilblain liberty garrison sissy \n",
      "cologne offerer nescient Saturn Giorgione excess armor deviation pillared Midianite waddler remover pressed Canopus flivver \n",
      "conductor Kodiak denseness bleep humanely smoke Rajasthan settlor wastrel languid muniments exhale aquatic disputant Lotty \n",
      "extensor absconder nighthawk crinkled Deity outdrawn Casper paisley glitzily roughneck convey forced rinse ennead elongate \n",
      "twisty sacristan quirkish mangily inanity euthenist catacomb wrote shielder colors Multan conjurer fielder pinones vincible \n",
      "mason shield demit gumption Cather clearing craton camping Bayreuth taunter reddish otiose mercurous Mindanao saver \n",
      "misgiving paramount catholic recession hermetic Garfield rhubarb mezuzot atheneum rivet rubric trumps gloaming Scythian unwearied \n",
      "Cheever diaspora immolator vitiation Fatima ironware copacetic metonym medically nonrandom uniformed sickroom sands Thermos freeboard \n",
      "clerk samba kennel katakana tinniness adequate gelidness gauche Ockham graham gleaming crafty sextuply equipment groove \n"
     ]
    }
   ],
   "source": [
    "i=0\n",
    "for j in range(10):\n",
    "    for k in range(15):\n",
    "        print(abridged_wordlist[i]+' ',end='')\n",
    "        i += 1\n",
    "    print()"
   ]
  },
  {
   "cell_type": "markdown",
   "metadata": {},
   "source": [
    "As shown above the words in the abridge list are not in alphabetical order."
   ]
  },
  {
   "cell_type": "code",
   "execution_count": 78,
   "metadata": {},
   "outputs": [
    {
     "name": "stdout",
     "output_type": "stream",
     "text": [
      "the abridged list includes words from \"Aachen\" to \"zymurgy\"\n"
     ]
    }
   ],
   "source": [
    "print('the abridged list includes words from \"{:s}\" to \"{:s}\"'.format(min(abridged_wordlist),max(abridged_wordlist)))"
   ]
  },
  {
   "cell_type": "markdown",
   "metadata": {},
   "source": [
    "The following code simulates dice rolls. Actual dice could be used and the results entered into the code below."
   ]
  },
  {
   "cell_type": "code",
   "execution_count": 79,
   "metadata": {},
   "outputs": [
    {
     "name": "stdout",
     "output_type": "stream",
     "text": [
      "50 dice rolls have an entropy of: 129 bits\n"
     ]
    }
   ],
   "source": [
    "num_rolls = 50\n",
    "print('{:d} dice rolls have an entropy of: {:.0f} bits'.format(num_rolls, math.log2(6**num_rolls)))"
   ]
  },
  {
   "cell_type": "code",
   "execution_count": 80,
   "metadata": {},
   "outputs": [
    {
     "name": "stdout",
     "output_type": "stream",
     "text": [
      "the string of 50 dice rolls: 61364161135455555344544644535134366221166665211245\n"
     ]
    }
   ],
   "source": [
    "# generate n dice rolls\n",
    "rd_str = ''\n",
    "for i in range(num_rolls):\n",
    "    rd_str += secrets.choice('123456')\n",
    "\n",
    "print('the string of {:d} dice rolls: {:s}'.format(num_rolls,rd_str))"
   ]
  },
  {
   "cell_type": "markdown",
   "metadata": {},
   "source": [
    "Physical dice can be rolled and the digits copied into the string variable."
   ]
  },
  {
   "cell_type": "markdown",
   "metadata": {},
   "source": [
    "#### Dice value frequency\n",
    "The following graph checks the dice value frequency, it should be somewhat uniform and there should be no missing digits. This is a useful graph if you are rolling physical dice and entering the results into the program."
   ]
  },
  {
   "cell_type": "code",
   "execution_count": 81,
   "metadata": {},
   "outputs": [
    {
     "data": {
      "image/png": "[encoded data removed]",
      "text/plain": [
       "<Figure size 640x480 with 1 Axes>"
      ]
     },
     "metadata": {},
     "output_type": "display_data"
    }
   ],
   "source": [
    "# using collections.Counter() to get a count of the occurrence of each digit in string  \n",
    "mgram = Counter(rd_str) \n",
    "\n",
    "sorted_dict = {key: value for key, value in sorted(mgram.items())}\n",
    "\n",
    "plt.bar(range(len(sorted_dict)), sorted_dict.values(), align='center')\n",
    "plt.xticks(range(len(sorted_dict)), list(sorted_dict.keys()))\n",
    "plt.show()"
   ]
  },
  {
   "cell_type": "markdown",
   "metadata": {},
   "source": [
    "Using the above graph to check the distribution of digits, which should appear somewhat uniform and at least there should be no missing digits. The list of dice rolls is converted into an integer by hashing the string, that way all the dice rolls are used."
   ]
  },
  {
   "cell_type": "code",
   "execution_count": 82,
   "metadata": {},
   "outputs": [
    {
     "name": "stdout",
     "output_type": "stream",
     "text": [
      "the hashed value of the dice roll string: 7addf3166b03eb514a20c3d3067a4d72773156f03ea1b52bb36101ec14135ee6\n"
     ]
    }
   ],
   "source": [
    "m = hashlib.sha256()\n",
    "m.update(rd_str.encode('utf-8'))\n",
    "print('the hashed value of the dice roll string: {:s}'.format(m.hexdigest()))"
   ]
  },
  {
   "cell_type": "code",
   "execution_count": 83,
   "metadata": {},
   "outputs": [
    {
     "name": "stdout",
     "output_type": "stream",
     "text": [
      "convert the hashed value into an integer: 55574318457225646580354742707503127334411965880144442585010388745071996657382\n",
      "length of digit string: 77 characters\n"
     ]
    }
   ],
   "source": [
    "rn_int = int(m.hexdigest(),base=16)\n",
    "print('convert the hashed value into an integer: {:d}'.format(rn_int))\n",
    "print('length of digit string: {:d} characters'.format(len(str(rn_int))))"
   ]
  },
  {
   "cell_type": "markdown",
   "metadata": {},
   "source": [
    "#### Digit frequency\n",
    "The following graph displays the digit frequency of the converted integer."
   ]
  },
  {
   "cell_type": "code",
   "execution_count": 84,
   "metadata": {},
   "outputs": [
    {
     "data": {
      "image/png": "[encoded data removed]",
      "text/plain": [
       "<Figure size 640x480 with 1 Axes>"
      ]
     },
     "metadata": {},
     "output_type": "display_data"
    }
   ],
   "source": [
    "# using collections.Counter() to get a count of the occurrence of each digit in string  \n",
    "mgram = Counter('{:d}'.format(rn_int)) \n",
    "\n",
    "sorted_dict = {key: value for key, value in sorted(mgram.items())}\n",
    "\n",
    "plt.bar(range(len(sorted_dict)), sorted_dict.values(), align='center')\n",
    "plt.xticks(range(len(sorted_dict)), list(sorted_dict.keys()))\n",
    "plt.show()"
   ]
  },
  {
   "cell_type": "code",
   "execution_count": 85,
   "metadata": {},
   "outputs": [
    {
     "name": "stdout",
     "output_type": "stream",
     "text": [
      "number of bits in the number: 255\n"
     ]
    }
   ],
   "source": [
    "print('number of bits in the number: {:d}'.format(len('{:b}'.format(rn_int))))"
   ]
  },
  {
   "cell_type": "code",
   "execution_count": 86,
   "metadata": {},
   "outputs": [],
   "source": [
    "# number of words to use in the pass phrase\n",
    "num_words = 2"
   ]
  },
  {
   "cell_type": "markdown",
   "metadata": {},
   "source": [
    "The words in the word list are indexed by taking 15 bits at a time from the number generated from the hashed dice string."
   ]
  },
  {
   "cell_type": "code",
   "execution_count": 87,
   "metadata": {},
   "outputs": [
    {
     "name": "stdout",
     "output_type": "stream",
     "text": [
      "number of words that can be indexed with hashed value: 17\n"
     ]
    }
   ],
   "source": [
    "print('number of words that can be indexed with hashed value: {:.0f}'.format(len('{:b}'.format(rn_int))/num_bits))"
   ]
  },
  {
   "cell_type": "code",
   "execution_count": 88,
   "metadata": {},
   "outputs": [
    {
     "name": "stdout",
     "output_type": "stream",
     "text": [
      " 1: 24294 = betters\n",
      " 2: 10278 = donut\n",
      "bettersdonut\n"
     ]
    }
   ],
   "source": [
    "pass_phrase = ''\n",
    "for i in range(num_words):\n",
    "    pass_phrase += abridged_wordlist[(rn_int >> num_bits*i) & 2**num_bits-1]\n",
    "    print('{:2d}: {:5d} = {:s}'.format(i+1, (rn_int >> num_bits*i) & 2**num_bits-1, abridged_wordlist[(rn_int >> num_bits*i) & 2**num_bits-1]) )\n",
    "print(pass_phrase)"
   ]
  },
  {
   "cell_type": "markdown",
   "metadata": {},
   "source": [
    "Mangle the passphrase to defend against dictionary attacks.\n",
    "\n",
    "Check for any caps, if not add one in a random place"
   ]
  },
  {
   "cell_type": "code",
   "execution_count": 89,
   "metadata": {},
   "outputs": [
    {
     "data": {
      "text/plain": [
       "'betTersdonut'"
      ]
     },
     "execution_count": 89,
     "metadata": {},
     "output_type": "execute_result"
    }
   ],
   "source": [
    "if pass_phrase.islower():\n",
    "    i = secrets.randbelow(len(pass_phrase))\n",
    "    pass_phrase = pass_phrase[:i] + pass_phrase[i].upper() + pass_phrase[i+1:]\n",
    "pass_phrase"
   ]
  },
  {
   "cell_type": "markdown",
   "metadata": {},
   "source": [
    "Insert random special and random digit into the passphrase."
   ]
  },
  {
   "cell_type": "code",
   "execution_count": 90,
   "metadata": {},
   "outputs": [
    {
     "data": {
      "text/plain": [
       "'betTe4rsdo(nut'"
      ]
     },
     "execution_count": 90,
     "metadata": {},
     "output_type": "execute_result"
    }
   ],
   "source": [
    "i = secrets.randbelow(len(pass_phrase))+1\n",
    "mangled_pass_phrase = pass_phrase[:i] + secrets.choice(special+digits) + pass_phrase[i:]\n",
    "i = secrets.randbelow(len(mangled_pass_phrase))+1\n",
    "mangled_pass_phrase = mangled_pass_phrase[:i] + secrets.choice(special+digits) + mangled_pass_phrase[i:]\n",
    "mangled_pass_phrase"
   ]
  },
  {
   "cell_type": "code",
   "execution_count": 91,
   "metadata": {},
   "outputs": [
    {
     "name": "stdout",
     "output_type": "stream",
     "text": [
      "length of mangled passphrase 14\n"
     ]
    }
   ],
   "source": [
    "print('length of mangled passphrase {:d}'.format(len(mangled_pass_phrase)))"
   ]
  },
  {
   "cell_type": "markdown",
   "metadata": {},
   "source": [
    "Every time the code is run, a new selection of words is made. On a previous run, the randomly chosen words were:  \n",
    "1: 16611 = avowedly  \n",
    "2:  5383 = hesitance  \n",
    "avowedlyhesitance  \n",
    "One generated example: 'a@vowedlyhesitAn0ce'  \n",
    "length of mangled passphrase 19  \n",
    "\n",
    "This passphrase of 19 characters, is two random words and has a random capital letter, symbol and number inserted into the string of letters at random positions. The particular pass phrase \"a@vowedlyhesitAn0ce\" is but one instance in a vast pool of possible passphrases built with the algorithm. The hacker would need to try a vast number of three word combinations with a random capital letter, symbol and number inserted into the string of letters at random positions.\n",
    "\n",
    "## Implementation and use of the password card\n",
    "My recommendation is not to use the password card for financial, email accounts or highly used social media accounts. These accounts, which are high value, and which I'll call Tier 1 accounts, should have 16 to 20 character random character strings used as passwords. Tier 1 passwords should be written in a password book and kept secure. Furthermore, a dedicated computer should be used for financial Tier 1 accounts, not one that has been used for general web surfing and might have become infected from daily contact with the internet.\n",
    "\n",
    "Generating the password card requires a computer and the ability to run the Python code shown in this notebook. The computer has most likely been connected to the internet at some time or is currently connected to the internet. This may not be acceptable if you have a high level of paranoia. Most people would be OK with generating, printing the card and then deleting or encrypting the backing up the files. A password card can be printed by copying the grid of characters to a word document for formatting and printing. Highlight alternate columns and font to Courier New size 12 for printing and lamination. Making an encrypted copy of the password card word document would probably be OK for most people. The printer and home computer are behind a locked door and the generation and use of the password card can be kept relatively private. After the card is printed, it could be laminated to make it more durable. You can find instructions for laminating cards online by using a household iron.\n",
    "\n",
    "The secret phrase used with the password card should be written down somewhere until it becomes committed to memory. Additionally, 2FA should be enabled wherever it is available.\n",
    "\n",
    "## Security analysis\n",
    "The purpose of this section is to perform an analysis of the password card and look at the security properties. A hacker will try to exploit exploit weaknesses found in the design or usage of the password card. Two common analysis techniques are black-box and white-box analysis.\n",
    "\n",
    "A black-box analysis is an attack that works independently of the password algorithm. The most common black-box analysis is the brute-force search, where all known combinations are tried. A modified version is to try weak or short passwords, rather than an exhaustive search.\n",
    "\n",
    "The opposite of a black-box analysis is a system where the inner components or logic are available for inspection. This is commonly referred to as a white-box or glass-box. This looks at the analysis from the point of view that the attacker knows how the algorithm works. \n",
    "\n",
    "The security analysis will look at both points of view, with zero knowledge and complete knowledge.\n",
    "\n",
    "### Analysis of password card random characters\n",
    "As described above, the secrets library can be used to generate the password's random characters. The selection of letters, numbers and special characters is cryptographically random. Variations in the character set usually involve choosing the special characters. In this notebook, the following character sets are used. \n",
    "\n",
    "| character set | |\n",
    "|---|---|\n",
    "|lower| abcdefghijklmnopqrstuvwxyz |\n",
    "|upper| ABCDEFGHIJKLMNOPQRSTUVWXYZ |\n",
    "|digits| 0123456789 |\n",
    "|special| !@#\\$%^&*()-+=<>? |\n",
    "\n",
    "The random part of the password card contains a random selection of: 2 upper + 2 lower + 2 digits + 2 special + 4 random, the number of combinations is:  "
   ]
  },
  {
   "cell_type": "code",
   "execution_count": 92,
   "metadata": {},
   "outputs": [
    {
     "name": "stdout",
     "output_type": "stream",
     "text": [
      "possible combinations of 12 characters in the password card is 4.330e+17\n"
     ]
    }
   ],
   "source": [
    "# password card combinations\n",
    "pwc_combinations = len(lower)**2 * len(upper)**2 * len(digits)**2 * len(special)**2 * char_set_size**4\n",
    "num_of_chars = 12\n",
    "print('possible combinations of {:d} characters in the password card is {:,.3e}'.format(num_of_chars, pwc_combinations))"
   ]
  },
  {
   "cell_type": "markdown",
   "metadata": {},
   "source": [
    "Choosing the 12 random characters in the way that is used to generate the password card limits the number of possible combinations.\n",
    "\n",
    "An adversary could attack the first six characters of the password since the first six characters only contain one upper case, one lower case, one special and two random characters. This was done to satisfy restrictive password policies. The second six characters are constructed similarly. This means that the password card will have at most three uppercase characters in the first group. Similarly, the same goes for lower case, digits and specials. This limitation can be exploited and reduce the search space. The code generating the password card will include at least one character from each group, but as a consequence, strings of five digits are excluded. This means that not all possible combinations are included in the password.\n",
    "\n",
    "The calculation below shows that the number of combinations of 12 characters, if all combinations are allowed, is about five orders of magnitude larger than available on the password card."
   ]
  },
  {
   "cell_type": "code",
   "execution_count": 93,
   "metadata": {},
   "outputs": [
    {
     "name": "stdout",
     "output_type": "stream",
     "text": [
      "combinations of 12 characters from a character set of 78 is 5.071e+22\n"
     ]
    }
   ],
   "source": [
    "num_of_chars = 12\n",
    "print('combinations of {:d} characters from a character set of {:d} is {:,.3e}'.format(num_of_chars,\n",
    "    char_set_size,char_set_size**num_of_chars))"
   ]
  },
  {
   "cell_type": "markdown",
   "metadata": {},
   "source": [
    "### Analysis of secret word space\n",
    "The secret word, since it consists of two words concatenated, is called a passphrase. There are 32,768 five to nine character long words in the abridged word list. Most people will tend to pick shorter words or familiar words. Using dice will prevent this tendency from happening and being exploited. "
   ]
  },
  {
   "cell_type": "code",
   "execution_count": 94,
   "metadata": {},
   "outputs": [
    {
     "name": "stdout",
     "output_type": "stream",
     "text": [
      "The number of combinations of two random words from the word list is 1.074e+09\n"
     ]
    }
   ],
   "source": [
    "wordlist_size = len(abridged_wordlist)\n",
    "print('The number of combinations of two random words from the word list is {:,.3e}'.format(wordlist_size**num_words))"
   ]
  },
  {
   "cell_type": "markdown",
   "metadata": {},
   "source": [
    "Additionally the passphrase is mangled. The passphrase is two random words of minimum length of 5 characters, with word mangling, therefore not directly in any dictionary. The word mangling is obtained by randomly converting one character to uppercase, if there is not one already and inserting a random digit and special character into the passphrase. This will force the password cracker to exhaustively search the entire space of possibilities, since no substitution rules were followed.\n",
    "\n",
    "To calculate the size of the passphrase space, we need to consider how many items there are.\n",
    "- There are two random words taken from a list of $2^{15}$ words\n",
    "- There are two random characters inserted from a list of 26 digits and special characters\n",
    "- One character is converted to an uppercase if there is not already a upper case"
   ]
  },
  {
   "cell_type": "code",
   "execution_count": 95,
   "metadata": {},
   "outputs": [
    {
     "name": "stdout",
     "output_type": "stream",
     "text": [
      "number of items: 1,073,741,850\n"
     ]
    }
   ],
   "source": [
    "print('number of items: {:,d}'.format((wordlist_size)**num_words + len(special) + len(digits)))"
   ]
  },
  {
   "cell_type": "markdown",
   "metadata": {},
   "source": [
    "There are two words and two special or digits selected from the number of items."
   ]
  },
  {
   "cell_type": "code",
   "execution_count": 96,
   "metadata": {},
   "outputs": [
    {
     "name": "stdout",
     "output_type": "stream",
     "text": [
      "secret word space: 1.329e+36\n"
     ]
    }
   ],
   "source": [
    "secretword_space = (len(abridged_wordlist)**num_words + len(special) + len(digits))**(num_words+1+1)\n",
    "print('secret word space: {:.3e}'.format(secretword_space))"
   ]
  },
  {
   "cell_type": "markdown",
   "metadata": {},
   "source": [
    "Can also look at secret word space from the point of view as if it were 12 to 20 random characters."
   ]
  },
  {
   "cell_type": "code",
   "execution_count": 97,
   "metadata": {},
   "outputs": [
    {
     "name": "stdout",
     "output_type": "stream",
     "text": [
      "Min secret word space, if considered as random chars: 5.071e+22\n",
      "Max secret word space, if considered as random chars: 6.949e+37\n"
     ]
    }
   ],
   "source": [
    "print('Min secret word space, if considered as random chars: {:.3e}'.format(char_set_size**12))\n",
    "print('Max secret word space, if considered as random chars: {:.3e}'.format(char_set_size**20))"
   ]
  },
  {
   "cell_type": "markdown",
   "metadata": {},
   "source": [
    "Seems like calculating secret word space based on the way the secret word is built should generate a space between the limits.\n",
    "\n",
    "### Analysis of password card PIN\n",
    "The PIN digits are not protected by any additional secrets. Someone who has access to your password card can read your PIN's directly. For example, if you lose your wallet containing your ATM card and your password card, someone can use the card to access your funds. To defend against this, you could offset the PIN numbers used either by physical position or by adding modulo 10 some secret offset. In other words, actual PIN's are shifted left or right by some position or the numbers offset in value by some amount; or maybe both.  \n",
    "\n",
    "## Threat model\n",
    "In this section attacks against passwords will be examined. A password or passphrase is typically a string of characters or a list or words, that can be random and is a secret shared between the individual and the computer system that confirms their identity.\n",
    "\n",
    "Threat modeling is a risk analysis exercise where potential threats and mitigations are identified. In this notebook I'll be looking at threats directly made on the password itself.    \n",
    "\n",
    "### Attacks against passwords\n",
    "Phishing, Man-in-the-Middle and Key-Logging attacks attempt to steal the password as does the so-called \"\\$5 wrench attack\". Because these attacks do not exploit a weakness in the password itself, they are not covered in this analysis. Mitigations against password cracking threats will be discussed. \n",
    "\n",
    "Credential Stuffing: Credential based attacks occur when attackers use previously cracked passwords at many different sites, looking for passwords that have been re-used.\n",
    "\n",
    "Dictionary attacks: Password lists, Dictionary, word mangling: These attacks occur when attackers use dictionary lists of known cracked passwords, dictionary words and word mangling to attempt to guess passwords.\n",
    "\n",
    "Brute force: This attack involves trying all combinations of characters up to some limit, looking for short passwords. \n",
    "\n",
    "### Examples of bad and compromised passwords\n",
    "Examples of bad and compromised passwords are: Youknow123, drowssap, My2password, Qwerty12345@, StephenASmith1, Andrew24, ZaqXsw12, Johnny#12345, P@55w0rd, Jp1234567890, abdcefg, password, monkey, 123456, password, qwerty, football, baseball, welcome, abc123, 1qaz2wsx, dragon, master, monkey, letmein, login, princess, qwertyuiop, solo, passw0rd, starwars\n",
    "\n",
    "Most systems enforce some level of password complexity, for example: Passwords need characters from all three of the following categories:\n",
    "- Uppercase characters\n",
    "- Lowercase characters\n",
    "- Non-alphanumeric characters\n",
    "\n",
    "Most people use similar patterns (i.e. capital letter in the first position, a symbol in the last, and a number in the last 2). Password crackers know this, so they run their dictionary attacks using the common substitutions, such as \"\\$\" for \"s\", \"@\" for \"a,\" \"1\" for \"l\" and so on. See the following article for password audit [test](https://arstechnica.com/information-technology/2023/01/a-fifth-of-passwords-used-by-federal-agency-cracked-in-security-audit/).\n",
    "\n",
    "### Counter measures \n",
    "The counter measures that can be used to strengthen passwords are those that limit attacks to brute force attacks. Using unique passwords for each login prevents compromised passwords from being used against other sites. Using passwords that are long and complex should be used. Dictionary words, combinations of words or names should not be used. Typical word mangling, letter substitutions pre and post pending of special characters or numbers are well known techniques for obfuscating dictionary words or names and should not be used. \n",
    "\n",
    "### Other mitigation\n",
    "[Multi-factor authentication (MFA)](https://en.wikipedia.org/wiki/Multi-factor_authentication) is an additional verification step used to gain access to an online account. Typically, secret questions, codes sent to your phone or hardware tokens are used as the second factor. MFA increases security because if one credential becomes compromised, unauthorized users will be unable to meet the second authentication requirement and will not be able to access the targeted physical space, computing device, network, or database. MFA should be enabled whenever it is supported. Web pages typically ask for MFA when an attempted login is from an unrecognized device or browser.\n",
    "\n",
    "# Password entropy\n",
    "Austrian physicist Ludwig Boltzmann explained [entropy](https://en.wikipedia.org/wiki/Entropy) as the measure of the number of possible microscopic arrangements or states of individual atoms and molecules of a system that comply with the macroscopic condition of the system. Password entropy is a measurement of how unpredictable or how hard it would be to try to guess the password. The number represents how many guesses one would have to make to try all the possible combinations. Depending on the system for which the password is being set up, the length of the password and the type characters allowed may be limited or the selection of certain characters enforced. \n",
    "\n",
    "The strength of a password depends on the password entropy and the speed of the password security algorithm. Websites that are running old versions of security software protect users passwords with password hash algorithms that run very fast. If such a password file was hacked, the password cracking tools could try password guesses at a high rate and would have a higher chance of finding the password and spend less time doing so. Websites that are running up to date security software have implemented modern password hashing algorithms that run very slow on purpose. In this case the hacker, when trying a brute force attack could only cycle through his guesses at a slow rate. Documents that are password protected are typically protected with encryption that runs very fast. In this case password cracking tools can try passwords at a very high rate.  \n",
    "\n",
    "Password entropy is defined by the following formula:\n",
    "\n",
    "$E = log_2(R^L)$\n",
    "\n",
    "where:  \n",
    "E = number of bits of entropy  \n",
    "R = size of the pool of unique characters or elements or choices  \n",
    "L = number of items taken from the pool to form the password  \n",
    "\n",
    "The number E can be used to compare the strength of various password schemes, provided that R is determined correctly. For example the password  \n",
    "\n",
    "i6[y>Z#G#Y%q%Qh  \n",
    "\n",
    "which is 15 characters in length and has an entropy of 94.8 bits, since some ambiguous characters have been excluded. The password \"$\\text{alongside gloss gigahertz yelp traffic}$\", which is made from five random words chosen using [Diceware](https://std.com/~reinhold/diceware.html) with the word list from [EFF's New Wordlists for Random Passphrases](https://www.eff.org/deeplinks/2016/07/new-wordlists-random-passphrases) has an entropy of 65 bits because R is the size of the word list and not the number of characters in the password. Eight Diceware words are needed to have enough entropy to exceed the 15 character password entropy. See calculations below."
   ]
  },
  {
   "cell_type": "code",
   "execution_count": 98,
   "metadata": {},
   "outputs": [
    {
     "name": "stdout",
     "output_type": "stream",
     "text": [
      "password entropy 94.8 bits\n"
     ]
    }
   ],
   "source": [
    "pw_len = 15\n",
    "char_set_len = len('abcdefghijkmnopqrstuvwxyz'+'ABCDEFGHJKLMNPQRSTUVWXYZ'+'23456789'+'!@#$%^&*()_+-={}[];:<>?')\n",
    "print('password entropy {:.1f} bits'.format(math.log2(char_set_len**pw_len)))"
   ]
  },
  {
   "cell_type": "code",
   "execution_count": 99,
   "metadata": {},
   "outputs": [
    {
     "name": "stdout",
     "output_type": "stream",
     "text": [
      "passphrase entropy 64 bits\n"
     ]
    }
   ],
   "source": [
    "num_words = 5 # five words from the diceware list\n",
    "print('passphrase entropy {:d} bits'.format(int(math.log2((6**5)**num_words))))"
   ]
  },
  {
   "cell_type": "code",
   "execution_count": 100,
   "metadata": {},
   "outputs": [
    {
     "name": "stdout",
     "output_type": "stream",
     "text": [
      "passphrase entropy 103 bits\n"
     ]
    }
   ],
   "source": [
    "num_words = 8\n",
    "print('passphrase entropy {:d} bits'.format(int(math.log2((6**5)**num_words))))"
   ]
  },
  {
   "cell_type": "markdown",
   "metadata": {},
   "source": [
    "The strength of a password is dependent on E, the password entropy and the query speed of the password hashing algorithm. Of course the query speed is also dependent on the computer hardware used to crack the passwords, which can range from a single modern desktop computer to large clusters of powerful processors. \n",
    "\n",
    "The following are some sample calculations based on two key derivation functions with a sliding computational cost. In the first case, [PBKDF2](https://en.wikipedia.org/wiki/PBKDF2) is used with a low cost function. I'll assign a speed of 10 nsec per query. In the second case [Argon2](https://en.wikipedia.org/wiki/Argon2) is used with a speed of 0.1 second per query. The speeds assigned are approximate and based on typical hardware.\n",
    "\n",
    "As can be seen in the table below, a reasonable level of security, defined as searching 1% of the entropy pool in 100 years, can be obtained with a 64.8 bit key for PBKDF2 systems and 41.5 bits for Argon2 systems.\n",
    "\n",
    "| Time to search 1% of entropy pool | strength | #bits for 10ns/query | #bits for 0.1s/query |\n",
    "|---|---|--:|--:|\n",
    "|1 week | very weak | 52.4 | 29.2 |\n",
    "|6 months | weak | 57.1 | 33.9 |\n",
    "|100 years | reasonable | 64.8 | 41.5 |\n",
    "|1k years | strong | 68.1 | 44.8 |\n",
    "|1M years | very strong | 78.1 | 54.8 |\n",
    "\n",
    "The calculations are shown below."
   ]
  },
  {
   "cell_type": "code",
   "execution_count": 101,
   "metadata": {},
   "outputs": [
    {
     "name": "stdout",
     "output_type": "stream",
     "text": [
      "number of passwords evaluated per sec = 1.0e+08\n",
      "number of passwords evaluated per hour = 360.0B\n"
     ]
    }
   ],
   "source": [
    "sec_per_query = 10e-9\n",
    "print('number of passwords evaluated per sec = {:.1e}'.format(1/sec_per_query))\n",
    "pw_eval_per_hour = 1/sec_per_query*60*60 #*1e3\n",
    "print('number of passwords evaluated per hour = {:.1f}B'.format(pw_eval_per_hour/1e9))"
   ]
  },
  {
   "cell_type": "code",
   "execution_count": 102,
   "metadata": {},
   "outputs": [],
   "source": [
    "duration = {'1 week':7,'6 months':30*6,'100 years':365*100,'1000 years':365*1e3,'1M years':365*1e6}\n",
    "N = Symbol('N')"
   ]
  },
  {
   "cell_type": "code",
   "execution_count": 103,
   "metadata": {},
   "outputs": [
    {
     "name": "stdout",
     "output_type": "stream",
     "text": [
      "Time to search 1% of the pool with 360.0B passwords evaluated per hour\n",
      "for E=52.4 bits, 1 week\n",
      "for E=57.1 bits, 6 months\n",
      "for E=64.8 bits, 100 years\n",
      "for E=68.1 bits, 1000 years\n",
      "for E=78.1 bits, 1M years\n"
     ]
    }
   ],
   "source": [
    "print('Time to search 1% of the pool with {:,.1f}B passwords evaluated per hour'.format(pw_eval_per_hour/1e9))\n",
    "for i in range(len(duration)):\n",
    "    days = duration[list(duration)[i]]\n",
    "    print('for E={:.1f} bits, {:s}'.format(solve(0.01*((2**N)/pw_eval_per_hour)/24-days, N)[0],list(duration)[i]))"
   ]
  },
  {
   "cell_type": "markdown",
   "metadata": {},
   "source": [
    "Now looking at 0.1 sec per query."
   ]
  },
  {
   "cell_type": "code",
   "execution_count": 104,
   "metadata": {},
   "outputs": [
    {
     "name": "stdout",
     "output_type": "stream",
     "text": [
      "number of passwords evaluated per sec = 10.0\n",
      "number of passwords evaluated per hour = 36.0k\n"
     ]
    }
   ],
   "source": [
    "sec_per_query = 0.1\n",
    "print('number of passwords evaluated per sec = {:.1f}'.format(1/sec_per_query))\n",
    "pw_eval_per_hour = 1/sec_per_query*60*60\n",
    "print('number of passwords evaluated per hour = {:.1f}k'.format(pw_eval_per_hour/1e3))"
   ]
  },
  {
   "cell_type": "code",
   "execution_count": 105,
   "metadata": {},
   "outputs": [
    {
     "name": "stdout",
     "output_type": "stream",
     "text": [
      "Time to search 1% of the pool with 36,000.0 passwords evaluated per hour\n",
      "for E=29.2 bits, 1 week\n",
      "for E=33.9 bits, 6 months\n",
      "for E=41.5 bits, 100 years\n",
      "for E=44.8 bits, 1000 years\n",
      "for E=54.8 bits, 1M years\n"
     ]
    }
   ],
   "source": [
    "print('Time to search 1% of the pool with {:,.1f} passwords evaluated per hour'.format(pw_eval_per_hour))\n",
    "for i in range(len(duration)):\n",
    "    days = duration[list(duration)[i]]\n",
    "    print('for E={:.1f} bits, {:s}'.format(solve(0.01*((2**N)/pw_eval_per_hour)/24-days, N)[0],list(duration)[i]))"
   ]
  },
  {
   "cell_type": "markdown",
   "metadata": {},
   "source": [
    "The calculation above involves one hypothetical machine used to crack passwords. A hacker could use multiple machines working in parallel. The calculations below show how much password entropy would need to be increased to withstand a super cluster of 1000 machines or 1M machines."
   ]
  },
  {
   "cell_type": "code",
   "execution_count": 106,
   "metadata": {},
   "outputs": [
    {
     "name": "stdout",
     "output_type": "stream",
     "text": [
      "to withstand a cluster of 1,000 machines, increase password entropy by 9.97 bits\n"
     ]
    }
   ],
   "source": [
    "num_machines = 1e3\n",
    "print('to withstand a cluster of {:,.0f} machines, increase password entropy by {:.2f} bits'.format(num_machines, math.log2(num_machines)))"
   ]
  },
  {
   "cell_type": "code",
   "execution_count": 107,
   "metadata": {},
   "outputs": [
    {
     "name": "stdout",
     "output_type": "stream",
     "text": [
      "to withstand a cluster of 1,000,000 machine, increase password entropy by 19.93 bits\n"
     ]
    }
   ],
   "source": [
    "num_machines = 1e6\n",
    "print('to withstand a cluster of {:,.0f} machine, increase password entropy by {:.2f} bits'.format(num_machines, math.log2(num_machines)))"
   ]
  },
  {
   "cell_type": "markdown",
   "metadata": {},
   "source": [
    "The length of a password and equivalent bits of entropy is calculated below."
   ]
  },
  {
   "cell_type": "code",
   "execution_count": 108,
   "metadata": {},
   "outputs": [
    {
     "name": "stdout",
     "output_type": "stream",
     "text": [
      "password length of  8 characters equates to 50.3 bits of entropy\n",
      "password length of 10 characters equates to 62.9 bits of entropy\n",
      "password length of 12 characters equates to 75.4 bits of entropy\n",
      "password length of 14 characters equates to 88.0 bits of entropy\n",
      "password length of 16 characters equates to 100.6 bits of entropy\n",
      "password length of 18 characters equates to 113.1 bits of entropy\n",
      "password length of 20 characters equates to 125.7 bits of entropy\n"
     ]
    }
   ],
   "source": [
    "for i in range(8,21,2):\n",
    "    print('password length of {:2d} characters equates to {:.1f} bits of entropy'.format(i,math.log2(char_set_size**i)))"
   ]
  },
  {
   "cell_type": "markdown",
   "metadata": {},
   "source": [
    "From the discussion above, a very strong password, that can resist attacks from a large cluster of fast password cracking machines, should be greater than 100 bits of entropy. To get 100 bits of entropy, the password needs to be 16 characters long or 8 words in a Diceware passphrase.\n",
    "\n",
    "### Hypothetical password cracking machine\n",
    "Dictionary attacks are countered because the passwords are random. This leaves a brute force or an exhaustive search as the avenue of attack with a password cracking machine. A hypothetical password cracking computer is considered. This hypothetical computer or cluster of processors is somewhat similar to those used to mine crypto currencies, machines found in large server farms, botnets, AI learning machines or the type of machines available to government agencies. In this analysis, we assume that the password cracking computer is made of a cluster of 1,000 processors, working in cooperation and each can test 20T passwords per second."
   ]
  },
  {
   "cell_type": "code",
   "execution_count": 109,
   "metadata": {},
   "outputs": [
    {
     "name": "stdout",
     "output_type": "stream",
     "text": [
      "machine search rate = 2.0e+16 passwords per second\n",
      "password evaluated per hour = 20,000T\n"
     ]
    }
   ],
   "source": [
    "# machine speed\n",
    "num_computers = 1000 # number of computers in password cracking cluster\n",
    "search_rate_per_computer = 20e12  # number of search operations per second\n",
    "search_rate = search_rate_per_computer*num_computers\n",
    "print('machine search rate = {:.1e} passwords per second'.format(search_rate))\n",
    "\n",
    "pw_eval_per_hour = search_rate*60*60\n",
    "print('password evaluated per hour = {:,.0f}T'.format(search_rate/1e12))"
   ]
  },
  {
   "cell_type": "markdown",
   "metadata": {},
   "source": [
    "The calculations below solve for the length of a password composed of random characters needed to resist the hypothetical password cracking machine for the duration indicated. Not all password cracking attempts are carried out by criminals. Sometimes users forget the password to a document or a bitcoin wallet and need to recover the password. \n",
    "\n",
    "The following calculations show the amount of time required to search 1% of the possible passwords based on password length, assuming the password was composed of random letters, digits and special characters."
   ]
  },
  {
   "cell_type": "code",
   "execution_count": 110,
   "metadata": {},
   "outputs": [
    {
     "name": "stdout",
     "output_type": "stream",
     "text": [
      "7.0 days to evaluate 1% of combinations from 80 bits of entropy\n",
      "which is equivalent to a password of 12.7 random characters\n"
     ]
    }
   ],
   "source": [
    "L = Symbol('L')\n",
    "E = 80\n",
    "print('{:,.1f} days to evaluate 1% of combinations from {:d} bits of entropy'.format(0.01*((2**E)/pw_eval_per_hour)/24,E ))\n",
    "print('which is equivalent to a password of {:,.1f} random characters'.format(solve((char_set_size**L)-2**E, L)[0].evalf()))"
   ]
  },
  {
   "cell_type": "code",
   "execution_count": 111,
   "metadata": {},
   "outputs": [
    {
     "name": "stdout",
     "output_type": "stream",
     "text": [
      "7.5 months to evaluate 1% of combinations from 85 bits of entropy\n",
      "which is equivalent to a password of 13.5 random characters\n"
     ]
    }
   ],
   "source": [
    "E = 85\n",
    "print('{:,.1f} months to evaluate 1% of combinations from {:d} bits of entropy'.format(0.01*((2**E)/pw_eval_per_hour)/24/30,E ))\n",
    "print('which is equivalent to a password of {:,.1f} random characters'.format(solve((char_set_size**L)-2**E, L)[0].evalf()))"
   ]
  },
  {
   "cell_type": "code",
   "execution_count": 112,
   "metadata": {},
   "outputs": [
    {
     "name": "stdout",
     "output_type": "stream",
     "text": [
      "19.6 years to evaluate 1% of combinations from 90 bits of entropy\n",
      "which is equivalent to a password of 14.3 random characters\n"
     ]
    }
   ],
   "source": [
    "E = 90\n",
    "print('{:,.1f} years to evaluate 1% of combinations from {:d} bits of entropy'.format(0.01*((2**E)/pw_eval_per_hour)/24/365,E ))\n",
    "print('which is equivalent to a password of {:,.1f} random characters'.format(solve((char_set_size**L)-2**E, L)[0].evalf()))"
   ]
  },
  {
   "cell_type": "code",
   "execution_count": 113,
   "metadata": {},
   "outputs": [
    {
     "name": "stdout",
     "output_type": "stream",
     "text": [
      "20,098.5 years to evaluate 1% of combinations from 100 bits of entropy\n",
      "which is equivalent to a password of 15.9 random characters\n"
     ]
    }
   ],
   "source": [
    "E = 100\n",
    "print('{:,.1f} years to evaluate 1% of combinations from {:d} bits of entropy'.format(0.01*((2**E)/pw_eval_per_hour)/24/365,E ))\n",
    "print('which is equivalent to a password of {:,.1f} random characters'.format(solve((char_set_size**L)-2**E, L)[0].evalf()))"
   ]
  },
  {
   "cell_type": "markdown",
   "metadata": {},
   "source": [
    "The calculations above show that a password of 16 random characters is needed to provide strong protection against the hypothetical password cracking machine.\n",
    "\n",
    "### Use of mnemonic and acronym passwords\n",
    "There is a widely recommended formula that claims to build strong passwords called the mnemonic strategy. This strategy is often presented in articles on computer security when making recommendations for having strong passwords. This strategy starts with a memorable sentence or phrase, the words are abbreviated and combined to form a password with substitutions to include special characters and numbers. Two interesting papers on this topic can be found [here](https://faculty.ist.psu.edu/axx29/publications/ccs_16.pdf) [1] and [here](https://www.researchgate.net/publication/221166436_Human_selection_of_mnemonic_phrase-based_passwords) [2]. \n",
    "\n",
    "Using the mnemonic technique, passwords can be made by taking the first letter of each word or the last letter of each word. Other variations are possible such as omitting vowels or taking the first two letters from each word. Common substitutions or permutations are employed or numbers and special characters are appended. Some examples are shown below. \n",
    "\n",
    "| Phrase | mnemonic | source |\n",
    "|:--|:--|:--|\n",
    "|Four score and seven years ago our fathers brought forth on this continent | 4s&7yaofb4otc | Gettysburg Address |\n",
    "|Deep into that darkness peering Long I stood there wondering fearing, Doubting dreaming dreams | di2tdpl1stwffddd | Edgar Allen Poe|\n",
    "|Because I could not stop for Death, He kindly stopped for me | E1dtprheydte987 | Emily Dickinson |\n",
    "|Shall I compare thee to a summer’s day | Shll1cmprthtsmmrsdy? | William Shakespeare |\n",
    "|Times have changed And we've often rewound the clock | thcawortc1234 | Cole Porter |\n",
    "|Picture yourself in a boat on a river With tangerine trees and marmalade skies |#pYiAbO@RwTtAmS*| John Lennon, Paul Mccartney |\n",
    "| All cats are gray | llctsrgry | pets | \n",
    "| I like ice cream | i_1ik3\\|c3Cr3@m\\$! | food | \n",
    "| It's the size of the fight in the dog | itsotfitd | saying |\n",
    "| In June 2013, my wife and I visited London, Paris and Amsterdam | i63mw&ivLP&@ | vacation |\n",
    "| Radiate boundless love towards the entire world | r1b2l3t&t*e+w | Buddha |\n",
    "| Conquer anger with non-anger Conquer badness with goodness | C@wn@C6wg | Buddha |\n",
    "| Blessed are those who are persecuted because of righteousness for theirs is the kingdom of heaven | d33o3d3f$r$$3mfn | Matthew 5:10 |\n",
    "| But seek first his kingdom and his righteousness | Bt5kfth5km@dh5r5 | Matthew 6:33 |\n",
    "\n",
    "The mnemonic passwords are long and complex and presumably easier to remember than 15 characters of gibberish. \n",
    "\n",
    "The problem with \"thcawortc1234\" as a password, is that it is derived from a pool of song lyrics, maybe popular or obscure, it doesn't matter; the pool of lyrics is not vast enough to be secure. A hacker could quickly run through all song lyrics, phrases from literature and poems, religious texts and build passwords to test with all variations of the mnemonic schemes described above. Notice how each of these is a fairly simple phrase and easy to remember. By stringing together a couple words, long passwords are created. Including a few symbols, numbers, or uppercase letters somewhere in the passphrase also increases its strength, but this is an illusion.\n",
    "\n",
    "The problem with these seemingly clever schemes is that humans are not very random and the pool of passwords or pass phrases based on mnemonic or acronym passwords is not very large. Maybe to a human, it seems large, but a hacker can program a computer to test all variations in a short amount of time. Additionally, you should be using a unique password for each account, so you might have one hundred of these mnemonic passwords to remember. When combined with the password card, a mnemonic or acronym secret word would be OK and provide a sufficient level of security as long as the password card remained private. An online tool should not be used to generate the mnemonic.\n",
    "\n",
    "### Attacks against mnemonic passwords\n",
    "In reference [2], a dictionary attack was made against mnemonic passwords. The authors used web scraping code to gather phrases from \n",
    "advertising slogans, children’s nursery rhymes and songs, movie quotes, famous quotations, song lyrics and television theme song lyrics. In total, they gathered over 249,000 phrases of which 129,000 phrases generated passwords with eight or more characters. Their mnemonic dictionary made from the mnemonic password rules and substitutions contained 400,000 items. The calculations below show that a pool of 400,000 items has an entropy of 18.6 bits per phrase, which is far less than the 100 bit recommendation.\n",
    "\n",
    "References:  \n",
    "\n",
    "1. Yang, Weining & Li, Ninghui & Chowdhury, Omar & Xiong, Aiping & Proctor, Robert. (2016). An Empirical Study of Mnemonic Sentence-based Password Generation Strategies. 1216-1229. 10.1145/2976749.2978346.  \n",
    "2. Cynthia, Kuo & Romanosky, Sasha & Cranor, Lorrie. (2006). Human selection of mnemonic phrase-based passwords. ACM International Conference Proceeding Series. 149. 67-78. 10.1145/1143120.1143129.   "
   ]
  },
  {
   "cell_type": "code",
   "execution_count": 114,
   "metadata": {},
   "outputs": [
    {
     "name": "stdout",
     "output_type": "stream",
     "text": [
      "400,000 possible mnemonic passwords have an entropy of 18.6 bits\n"
     ]
    }
   ],
   "source": [
    "print('{:,d} possible mnemonic passwords have an entropy of {:.1f} bits'.format(400000,math.log2(400000)))"
   ]
  },
  {
   "cell_type": "markdown",
   "metadata": {},
   "source": [
    "If we are generous and allow that maybe the size of the pool of mnemonic passwords is 1 million, then:"
   ]
  },
  {
   "cell_type": "code",
   "execution_count": 115,
   "metadata": {},
   "outputs": [
    {
     "name": "stdout",
     "output_type": "stream",
     "text": [
      "1,000,000 possible mnemonic passwords have an entropy of 19.9 bits\n"
     ]
    }
   ],
   "source": [
    "print('{:,d} possible mnemonic passwords have an entropy of {:.1f} bits'.format(1000000,math.log2(1e6)))"
   ]
  },
  {
   "cell_type": "code",
   "execution_count": 116,
   "metadata": {},
   "outputs": [
    {
     "name": "stdout",
     "output_type": "stream",
     "text": [
      "the size of the pool needs to be on the order of 1.3e+30 items\n"
     ]
    }
   ],
   "source": [
    "print('the size of the pool needs to be on the order of {:.1e} items'.format(2**100))"
   ]
  },
  {
   "cell_type": "markdown",
   "metadata": {},
   "source": [
    "How big is $10^{30}$? It is a number that is a million times greater than all the stars in all the galaxies in the universe. It is estimated that there are 10 trillion galaxies in the universe and 100 billion stars per galaxy. See: [How many stars are in the universe?](https://www.space.com/26078-how-many-stars-are-there.html)"
   ]
  },
  {
   "cell_type": "code",
   "execution_count": 117,
   "metadata": {},
   "outputs": [
    {
     "name": "stdout",
     "output_type": "stream",
     "text": [
      "1,000,000\n"
     ]
    }
   ],
   "source": [
    "galaxies = 10e12\n",
    "stars_per_galaxy = 100e9\n",
    "print('{:,.0f}'.format(1e30/galaxies/stars_per_galaxy))"
   ]
  },
  {
   "cell_type": "markdown",
   "metadata": {},
   "source": [
    "Also, $10^{30}$ is about the number of atoms as there are in 1,000 people.\n",
    "\n",
    "### False entropy estimates\n",
    "Determining the entropy pool size can sometimes be difficult, especially if a human invented choosing method is used to generate passwords that people can remember. Password entropy estimates often just look at the number of characters in the password and not the size of the pool. This can sometimes give an entropy estimate that is much larger than it actually is. A correct entropy computation works over the process by which the password was generated. We should assume that the attacker is aware of the process, but lacks knowledge of the actual choices since they are random.\n",
    "\n",
    "Referring to [1] and [2], I get the sense that human generated passwords have an entropy of 2 bits per character. The reason is that passwords chosen by humans roughly reflect the patterns and character frequency distributions of ordinary English text, and are chosen by users so that they can remember them. Users who choose passwords for themselves, because they are not chosen at random, the passwords will not have a uniform random distribution. \n",
    "\n",
    "So as a rough estimate, a human chosen 15 character password will have 30 bits of entropy and as calculated below is equivalent to a random password of 4.8 characters.\n",
    "\n",
    "References:  \n",
    "\n",
    "1. William E. Burr, Donna F. Dodson, Elaine M. Newton, Ray A. Perlner, W. Timothy Polk, Sarbari Gupta, Emad A. Nabbus,Electronic Authentication Guideline, [NIST Special Publication 800-63-1](https://nvlpubs.nist.gov/nistpubs/Legacy/SP/nistspecialpublication800-63ver1.0.2.pdf), April 2006  \n",
    "2. Kristen K. Greene, John Kelsey, Joshua M. Franklin, [Measuring the Usability and Security of Permuted Passwords on Mobile Platforms](https://nvlpubs.nist.gov/nistpubs/ir/2016/NIST.IR.8040.pdf), NISTIR 8040, April 2016  "
   ]
  },
  {
   "cell_type": "code",
   "execution_count": 118,
   "metadata": {},
   "outputs": [
    {
     "name": "stdout",
     "output_type": "stream",
     "text": [
      "30 bits of entropy is equivalent to a random password of length 4.8 characters\n"
     ]
    }
   ],
   "source": [
    "L = Symbol('L')\n",
    "E = 30\n",
    "print('{:d} bits of entropy is equivalent to a random password of length {:,.1f} characters'.format(E,solve((char_set_size**L)-2**E, L)[0].evalf()))"
   ]
  },
  {
   "cell_type": "markdown",
   "metadata": {},
   "source": [
    "### Attack scenarios\n",
    "Risk analysis: Typically, risk analysis involves looking at the likelihood of an occurrence and then examining the severity of the consequences. We can adopt the position that all accounts should get a strong password regardless of the account or the consequences of that account being hacked. Nevertheless, email, heavily used social media and financial accounts belong in Tier 1 and should have very strong passwords and probably not candidates for the password card. Other accounts such as news sites and online shopping can have login passwords that do not need the same level of strength and can make use of the password card.\n",
    "\n",
    "Attack avenues:     \n",
    "Password attack avenues described in news reports and discussed on line, involve exploiting weakness in the passwords chosen. Either the password chosen is predictable or too short. Password choices should come from the largest possible pool of choices and the selection should be random.\n",
    "\n",
    "The following attack scenarios are examined. In each case the attacker possess varying amounts of knowledge. Alice is using the password card for several of her accounts. Faythe generated the password card for Alice as well as coming up with the secret passphrase that Alice appends to her password. Faythe can not be exploited by the hackers.\n",
    "\n",
    "1. Erin, who is Alice's nosy sister, wants to read her email and \"borrows\" Alice's password card. \n",
    "2. Chad, a hacker, tries to break into accounts by guessing usernames and passwords. He has no specific knowledge and uses smart guesses and social engineering to aid in his attack.\n",
    "3. Frank, a hacker, knows that Alice is using a password card, but he has no specific details.\n",
    "4. Trudy, an intruder, finds, steals or copies Alice's password card. In this case, Trudy also knows Alice's user name and the letters of the columns used in the password card. The only information Trudy does not possess is Alice's secret word or pass phrase.\n",
    "5. Craig, a hacker, tricks Alice into loading a virus or visiting a malicious site and logs Alice's password. He can employ various tools or techniques such as key logging, phishing, website spoofing or shoulder surfing.\n",
    "6. Mallory, a malicious and violent person, employs the so-called \"\\$5 wrench attack\", which is when Mallory finds out that Alice has a lot of money and physically attacks or threatens her to obtain her passwords.\n",
    "\n",
    "#### Scenario #1: Erin, the nosy sister of Alice, wants to read her email and \"borrows\" her password card\n",
    "Erin does not know Alice's secret word/passphrase, but thinks she is using two words plus extra characters, because she has watched Alice login, but didn't quite get the full pass phrase.\n",
    "\n",
    "Assuming that Alice's email provided does not lock Alice's account after three failed attempts, Erin could only try new password guesses at a rate of 1 to 3 seconds per attempt."
   ]
  },
  {
   "cell_type": "code",
   "execution_count": 119,
   "metadata": {},
   "outputs": [
    {
     "name": "stdout",
     "output_type": "stream",
     "text": [
      "time to test 1% of all two word combinations = 4.21e+26 years\n"
     ]
    }
   ],
   "source": [
    "query_time = 1 # accounts for password latency for wrong password, on some systems this is 3 seconds\n",
    "print('time to test 1% of all two word combinations = {:,.2e} years'.format(0.01*query_time*secretword_space/60/60/24/365))"
   ]
  },
  {
   "cell_type": "markdown",
   "metadata": {},
   "source": [
    "Erin will give up long before she even gets to trying 1% of the possible combinations. Even if Erin gets lucky and tries Alice's secret words, they will not work because of the word mangling.\n",
    "\n",
    "#### Scenario #2: Chad, a hacker, tries to break into accounts by guessing usernames and passwords\n",
    "Chad has no specific knowledge and uses smart guesses to guide his attack. Chad can only employ various password guessing strategies in hopes of finding a weak or short password. Since the password card generates a long complex password, the typical password cracking techniques will probably fail. In addition to guessing Alice's password, Chad must also guess her login ID. Let's say Chad has obtained the web site's password hash table and tries to crack it off line with a massive machine.\n",
    "\n",
    "Chad's attack strategies:\n",
    "- dictionary, word mangle, lists of cracked passwords\n",
    "- exhaustive search through all combination of short passwords\n",
    "\n",
    "Passwords generated with password card are not within the set of passwords that can be discovered by using attacks based on dictionary, word mangle or lists of cracked passwords. He can only search through all combinations of short passwords. \n",
    "\n",
    "Chad has a password cracking computer similar to the hypothetical password cracking machine described above."
   ]
  },
  {
   "cell_type": "code",
   "execution_count": 120,
   "metadata": {},
   "outputs": [
    {
     "name": "stdout",
     "output_type": "stream",
     "text": [
      "machine search rate = 2.000e+16 passwords per second\n"
     ]
    }
   ],
   "source": [
    "# machine speed\n",
    "num_computers = 1000 # number of computers in password cracking cluster\n",
    "search_rate_per_computer = 20e12  # number of search operations per second\n",
    "search_rate = search_rate_per_computer*num_computers\n",
    "print('machine search rate = {:.3e} passwords per second'.format(search_rate))"
   ]
  },
  {
   "cell_type": "markdown",
   "metadata": {},
   "source": [
    "Chad can run his password cracking search through all the easy and short combinations. Eventually he tries to brute force the password and sets his search limit to 15 characters."
   ]
  },
  {
   "cell_type": "code",
   "execution_count": 121,
   "metadata": {},
   "outputs": [
    {
     "name": "stdout",
     "output_type": "stream",
     "text": [
      "number of passwords evaluated per hour = 7.2e+19\n",
      "size of entropy pool: 2.4e+28\n",
      "381.6 years to evaluate 1% of all password card passwords\n"
     ]
    }
   ],
   "source": [
    "sec_per_hour = 60*60\n",
    "pw_eval_per_hour = search_rate*sec_per_hour\n",
    "print('number of passwords evaluated per hour = {:.1e}'.format(pw_eval_per_hour))\n",
    "print('size of entropy pool: {:.1e}'.format((char_set_size**15)))\n",
    "print('{:,.1f} years to evaluate 1% of all password card passwords'.format((0.01*(char_set_size**(15))/pw_eval_per_hour/24/365)))"
   ]
  },
  {
   "cell_type": "markdown",
   "metadata": {},
   "source": [
    "It would take Chad more than 100 years to search 1% of the password space for 15 character length passwords. The chances of him getting lucky are very small. The password card plus the passphrase is typically longer than 15 characters."
   ]
  },
  {
   "cell_type": "code",
   "execution_count": 122,
   "metadata": {},
   "outputs": [
    {
     "name": "stdout",
     "output_type": "stream",
     "text": [
      "number of passwords evaluated per hour = 7.2e+19\n",
      "size of entropy pool: 4.0e+24\n",
      "22.9 days to evaluate 1% of all password card passwords\n"
     ]
    }
   ],
   "source": [
    "print('number of passwords evaluated per hour = {:.1e}'.format(pw_eval_per_hour))\n",
    "print('size of entropy pool: {:.1e}'.format((char_set_size**13)))\n",
    "print('{:,.1f} days to evaluate 1% of all password card passwords'.format((0.01*(char_set_size**(13))/pw_eval_per_hour/24)))"
   ]
  },
  {
   "cell_type": "markdown",
   "metadata": {},
   "source": [
    "It would take more than 20 days to search 1% of the space of a 13 character long password."
   ]
  },
  {
   "cell_type": "markdown",
   "metadata": {},
   "source": [
    "#### Scenario #3: Frank, a hacker, knows that Alice is using a password card\n",
    "Frank knows that Alice is using a password card, but he does not have a copy of her card or the specific procedure that she is using. He can try to re-generate the card that Alice is using. Frank writes some Python code that can generate a new password card based on published descriptions of the card. \n",
    "\n",
    "Any password card that Frank can generate will certainly be different than Alice's because Faythe employed the Python secrets module when generating Alice's card and choosing her secret word/passphrase. Frank doesn't have any knowledge of the entropy pool that Faythe used and therefore cannot know how to initialize the internal states.\n",
    "\n",
    "Frank might assume that instead of the secret.py module, Faythe used the random.py module. Frank could brute force attack the password card assuming that only $2^{32}$ initial states are available. He would still need to attack the secret word/passphrase. Frank can only guess the length and how the secret word/passphrase might have been generated. Since Faythe generated the secret word/passphrase no amount of social engineering directed at Alice that Frank might try will work.\n",
    "\n",
    "Frank can try all $2^{32}$ initial states and all short secret word/passphrases that he can think of, but he will fail. It is improbable that Alice's password card/passphrase would share any common states and at the same time guesses from a pool of short secret word/passphrase guesses. Faythe chose a longer passphrase than Frank is willing to test for."
   ]
  },
  {
   "cell_type": "code",
   "execution_count": 123,
   "metadata": {},
   "outputs": [
    {
     "name": "stdout",
     "output_type": "stream",
     "text": [
      "number of passwords evaluated per hour = 7.2e+19\n",
      "567.6 years to evaluate 1% of 2^32 password card passwords\n"
     ]
    }
   ],
   "source": [
    "print('number of passwords evaluated per hour = {:.1e}'.format(pw_eval_per_hour))\n",
    "print('{:,.1f} years to evaluate 1% of 2^32 password card passwords'.format((0.01*((2**32)*(char_set_size**10))/pw_eval_per_hour/24/365)))"
   ]
  },
  {
   "cell_type": "markdown",
   "metadata": {},
   "source": [
    "It would take Frank more than 500 years to search 1% of the space for $2^{32}$ initial states and 10 character length secret word/passphrase. The password card plus the passphrase is typically longer than 15 characters and entropy used by secrets.py will greatly exceed $2^{32}$.\n",
    "\n",
    "Using the size of available combinations in the password card and the size of the secret word pool, the time to evaluate 1% of the total pool is extreme, as shown below."
   ]
  },
  {
   "cell_type": "code",
   "execution_count": 124,
   "metadata": {},
   "outputs": [
    {
     "name": "stdout",
     "output_type": "stream",
     "text": [
      "9.126e+27 years to evaluate 1% of all password card passwords\n"
     ]
    }
   ],
   "source": [
    "print('{:,.3e} years to evaluate 1% of all password card passwords'.format((0.01*(pwc_combinations*secretword_space)/pw_eval_per_hour/24/365)))"
   ]
  },
  {
   "cell_type": "markdown",
   "metadata": {},
   "source": [
    "#### Scenario #4: Trudy, an intruder, finds, steals or copies Alice's password card\n",
    "Trudy knows Alice's user name and the details of her password card. The only information Trudy does not have is Alice's secret word/passphrase. In this case, Alice's password security is dependent on her secret word/passphrase. Trudy has a password cracking machine similar to Chad's."
   ]
  },
  {
   "cell_type": "code",
   "execution_count": 125,
   "metadata": {},
   "outputs": [
    {
     "name": "stdout",
     "output_type": "stream",
     "text": [
      "number of passwords evaluated per hour = 7.2e+19\n",
      "2.107e+10 years to evaluate 1% of secret word space\n"
     ]
    }
   ],
   "source": [
    "print('number of passwords evaluated per hour = {:.1e}'.format(pw_eval_per_hour))\n",
    "print('{:,.3e} years to evaluate 1% of secret word space'.format(0.01*secretword_space/pw_eval_per_hour/24/365))"
   ]
  },
  {
   "cell_type": "markdown",
   "metadata": {},
   "source": [
    "The above calculations show that Trudy will not find Alice's secret passphrase.\n",
    "\n",
    "If Alice's secret word resembles a 12 character random combination of characters. Then Trudy can search this space rather quickly, in less than 1 day."
   ]
  },
  {
   "cell_type": "code",
   "execution_count": 126,
   "metadata": {},
   "outputs": [
    {
     "name": "stdout",
     "output_type": "stream",
     "text": [
      "0.293 days to evaluate 1% of secret word space if equivalent to 12 characters\n"
     ]
    }
   ],
   "source": [
    "print('{:,.3f} days to evaluate 1% of secret word space if equivalent to 12 characters'.format(0.01*char_set_size**12/pw_eval_per_hour/24))"
   ]
  },
  {
   "cell_type": "markdown",
   "metadata": {},
   "source": [
    "To defend against Trudy, Alice's mangled passphrase should be at least 15 characters long."
   ]
  },
  {
   "cell_type": "code",
   "execution_count": 127,
   "metadata": {},
   "outputs": [
    {
     "name": "stdout",
     "output_type": "stream",
     "text": [
      "391.22 years to evaluate 1% of secret word space\n"
     ]
    }
   ],
   "source": [
    "print('{:,.2f} years to evaluate 1% of secret word space'.format(0.01*char_set_size**15/pw_eval_per_hour/24/356))"
   ]
  },
  {
   "cell_type": "markdown",
   "metadata": {},
   "source": [
    "15 characters would force Trudy to spend enormous funds to search 1% of the space.\n",
    "\n",
    "#### Scenario #5: Craig, a hacker, tricks Alice into loading a virus or visiting a malicious site and logs her password\n",
    "Craig can employ various tools or techniques such as key logging, phishing, website spoofing or shoulder surfing to steal Alice's password. The strength of the password does not help and it may be the reason Craig needs to resort to these measures.\n",
    "\n",
    "#### Scenario #6: Mallory, a malicious attacker, employs the \"5 dollar wrench attack\"\n",
    "Mallory finds out that Alice has a lot of money. He tricks her into visiting a malicious web page, opening a malicious email or physically breaks into her house and compromises her devices with malicious code to steal her passwords. He can also take the attack to the next level and physically attack or threaten her to obtain your passwords.\n",
    "\n",
    "The strength of the password generated with the password card would probably leave scenarios 3 or 4 as the only practical avenue of attack. Which I guess is the point of having a strong password.\n",
    "\n",
    "## Analysis of alternatives\n",
    "There are several password management schemes that are typically used. Assuming that unique passwords are being used for each login, there might be about 100 passwords that a typical user would need to keep track of. Three password management schemes are considered.  \n",
    "\n",
    "- Password book: This is a handwritten password list in notebook, perhaps organized alphabetically in a binder. Use some sort of offline method and create good passwords. Keep the notebook in a secure place. Pros and cons of a computer based password manager verus a password book are discussed [here](https://security.stackexchange.com/questions/175075/password-manager-vs-password-book). A password book can be purchased [here](https://www.amazon.com/s?k=password+book&language=en_US&crid=D1BZOEGM9LTS&linkCode=ll2&linkId=2a5ae88e4a78a8007c7270b5acabd639&sprefix=password+book%2Caps%2C91&tag=pbippznm-20&ref=as_li_ss_tl). Backups of a password notebook can be made by photocopying (or scanning) the pages and keeping the backup in a safe deposit box. Other than banks and other financial institutions, most web sites will put a cookie on your computer and allow you to re-visit the site without re-logins.  \n",
    "- Password card: A password card is also a paper solution, and one suitable to carry on a daily basis. A Password Card is a credit card-sized card which lets you pick very secure passwords, without having to remember them. Backups of the password card can be a photocopy which is kept in a secure location.  \n",
    "- Computer based password manager: There are various options available and this is a big topic of discussion online. Some type of password manager is appropriate for most people and might require a subscription. Computer based password manager requires a very strong master password because it protects all your other passwords.  \n",
    "- Combination of alternatives: A combination of a Password book, Password card and Computer based password manager can also be used.  \n",
    "\n",
    "Basically the options are paper based and computer based. Paper based solutions are only as secure as the storage location of the password book. A password book locked in your house at home and its existence is not known is pretty secure because no one is actively looking for such a book. Needless to say, you should not be carrying around your password book in your backpack with the words \"passwords\" on the front of it. A password book could be used to record all your passwords of which only a few are needed on a daily basis and the password card could be used for those needed more frequently or when away from home.\n",
    "\n",
    "Web based passwords managers can be hacked. For example, Lastpass reported on December 22, 2022, that a threat actor was able to copy a backup of customer vault data from the encrypted storage container. The encrypted fields remain secured with 256-bit AES encryption and can only be decrypted with a unique encryption key derived from each user’s master password. Web based password managers are not recommended for financial or email accounts, mainly for two reasons. 1) They represent an attractive target with large payoff potential. 2) It breaks the don't put all your eggs in one basket rule. \n",
    "\n",
    "When you use a password manager like LastPass or 1Password, it stores a list containing all of the user names and passwords for the sites and apps you use, including banking, health care, email and social networking accounts. It keeps track of that list, called the vault, in its online cloud so you have easy access to your passwords from any device. LastPass said hackers had stolen copies of the list of usernames and passwords of every customer from the company’s servers.\n",
    "\n",
    "Most web browsers offer at least a rudimentary password manager. This is better than reusing the same password everywhere, but browser-based password managers are limited. In recent years Google has improved the password manager built into [Chrome](https://en.wikipedia.org/wiki/Google_Chrome#Password_management).\n",
    "\n",
    "Computer based password managers like [Bitwarden](https://bitwarden.com/) offer a self hosted soultion in addition to the normal cloud based storage. \n",
    "\n",
    "Cloud based password managers are targets for attack. See [Bitwarden password vaults targeted in Google ads phishing attack](https://www.bleepingcomputer.com/news/security/bitwarden-password-vaults-targeted-in-google-ads-phishing-attack/) which describes how Bitwarden and other password managers are being targeted in Google ads phishing campaigns to steal users' password vault credentials. Most password managers are cloud-based, allowing users to access their passwords through websites and mobile apps. These passwords are stored in the cloud in \"password vaults\" that keep the data in an encrypted format, usually encrypted using users' master passwords. Recent security breaches at LastPass and credential stuffing attacks at Norton have illustrated that a master password is a weak point for a password vault.\n",
    "\n",
    "For this reason, threat actors have been spotted creating phishing pages that target your password vault's login credentials, potentially authentication cookies, as once they gain access to these, they have full access to your vault. [Typosquatting](https://en.wikipedia.org/wiki/Typosquatting) also called URL hijacking, a sting site, or a fake URL, is a form of cybersquatting, and possibly brandjacking which relies on mistakes such as typos made by Internet users when inputting a website address into a web browser. Should a user accidentally enter an incorrect website address, they may be led to any URL (including an alternative website owned by a cybersquatter).\n",
    "\n",
    "The typosquatter's URL will usually be one of five kinds, all similar to the victim site address:  \n",
    "\n",
    "- A common misspelling, or foreign language spelling, of the intended site  \n",
    "- A misspelling based on a typographical error  \n",
    "- A plural of a singular domain name  \n",
    "- A different top-level domain: (i.e. .com instead of .org)  \n",
    "- An abuse of the Country Code Top-Level Domain (ccTLD) (.cm, .co, or .om instead of .com)  \n",
    "\n",
    "Once in the typosquatter's site, the user may also be tricked into thinking that they are in fact in the real site, through the use of copied or similar logos, website layouts, or content. \n",
    "\n",
    "Spam emails sometimes make use of typosquatting URLs to trick users into visiting malicious sites that look like a given bank's site, for instance.\n",
    "\n",
    "The domain used in the ad was 'appbitwarden.com' and, when clicked, redirected users to the site 'bitwardenlogin.com.' The page at 'bitwardenlogin.com' was an exact replica of the legitimate Bitwarden Web Vault login page. \n",
    "\n",
    "Users should always configure Multi-factor authentication in the password manager. In case credentials are inadvertently entered into a phishing site, your multi-factor authentication should prevent a total breach. Unfortunately, even with MFA protection, your accounts can still be vulnerable to advanced adversary-in-the-middle (AiTM) phishing attacks. AiTM phishing attacks are when threat actors utilize specialized toolkits like Evilginx2, Modlishka, and Muraena to create phishing landing pages that proxy to legitimate login forms at a targeted service. Using this method, visitors to the phishing page will see a legitimate service's login form, such as Microsoft 365. When they enter their credentials and MFA verification codes, this information is also relayed to the actual site. Once a user logs in and the legitimate site sends the MFA-backed session cookie, the phishing toolkit can steal these tokens for later use.\n",
    "\n",
    "[KeepassX](https://www.keepassx.org/) is a password manager that is offline.\n",
    "\n",
    "A master password is required for a [password manager](https://en.wikipedia.org/wiki/Password_manager). The master password for a password manager is similar to having just one password, since with the master password all other passwords in the vault can be obtained. The Password Manager will encrypt the user's password vault with something like AES-256 using a key derived from the master password. But if the master password is weak, then the derived 256 bit key does not provide a AES-256 level of protection. \n",
    "\n",
    "A cloud based password manager requires a very strong master password, especially if all your sensitive account credentials are protected by the password manager. A 256 bit AES key derived from a process that starts with 90 equivalent bits of entropy is not 256 bits strong, but is only 90 bits strong. For example a pass phrase of four random words taken from a word list of 255,000 words, provides an equivalent password entropy of 72 bits."
   ]
  },
  {
   "cell_type": "code",
   "execution_count": 128,
   "metadata": {},
   "outputs": [
    {
     "name": "stdout",
     "output_type": "stream",
     "text": [
      "number of passphrases: 4.228e+21 with 4 words\n",
      "equivalent entropy of 72 bits from using 4 words\n"
     ]
    }
   ],
   "source": [
    "pass_phrase_len = 4\n",
    "word_list_len = 255e3\n",
    "print('number of passphrases: {:.3e} with {:d} words'.format(word_list_len**pass_phrase_len,pass_phrase_len))\n",
    "print('equivalent entropy of {:.0f} bits from using {:d} words'.format(math.log2(word_list_len**pass_phrase_len),pass_phrase_len))"
   ]
  },
  {
   "cell_type": "markdown",
   "metadata": {},
   "source": [
    "Such a password could be cracked in short order."
   ]
  },
  {
   "cell_type": "code",
   "execution_count": 129,
   "metadata": {},
   "outputs": [
    {
     "name": "stdout",
     "output_type": "stream",
     "text": [
      "39 min to evaluate 1% of combinations from 72 bits of entropy\n",
      "which is equivalent to a password of length 11.5 characters\n"
     ]
    }
   ],
   "source": [
    "E = round(math.log2(word_list_len**pass_phrase_len))\n",
    "print('{:,.0f} min to evaluate 1% of combinations from {:d} bits of entropy'.format(0.01*((2**E)/pw_eval_per_hour*60),E ))\n",
    "print('which is equivalent to a password of length {:,.1f} characters'.format(solve((char_set_size**L)-2**E, L)[0].evalf()))"
   ]
  },
  {
   "cell_type": "markdown",
   "metadata": {},
   "source": [
    "If the 256 bit encryption key is derived from a short pass phrase, the effective key length is 72 bits and not 256 bits.\n",
    "\n",
    "If the master password word is 16 random characters of gibberish, the equivalent key length is 101 bits."
   ]
  },
  {
   "cell_type": "code",
   "execution_count": 130,
   "metadata": {},
   "outputs": [
    {
     "name": "stdout",
     "output_type": "stream",
     "text": [
      "equivalent entropy of 101 bits from 16 random characters\n",
      "40,197 years to evaluate 1% of combinations from 101 bits of entropy\n"
     ]
    }
   ],
   "source": [
    "# how many characters in a jibberish password?\n",
    "num_of_chars = 16\n",
    "char_set_size = len('abcdefghijklmnopqrstuvwxyz'+'ABCDEFGHIJKLMNOPQRSTUVWXYZ'+'0123456789'+'!@#\\$%^&*()-+=<>?')\n",
    "E = round(math.log2(char_set_size**num_of_chars))\n",
    "print('equivalent entropy of {:.0f} bits from {:d} random characters'.format(E,num_of_chars))\n",
    "print('{:,.0f} years to evaluate 1% of combinations from {:d} bits of entropy'.format(0.01*((2**E)/pw_eval_per_hour)/24/365,E ))"
   ]
  },
  {
   "cell_type": "markdown",
   "metadata": {},
   "source": [
    "You need 21 random characters or 8 random words to exceed the entropy of a 128 bit key.\n",
    "\n",
    "## Conclusion\n",
    "The password card is secure when coupled with a 15 character long mangled passphrase. The 15 character long mangled passphrase is the only part that needs to be memorized. Using the procedure outlined, a unique and strong password can be generated for each account. The password card provides a convenient and portable way to generate and use unique passwords.\n",
    "\n",
    "## Revision History  \n",
    "- 10/10/2015: Ver 1 - coding started  \n",
    "- 20 Nov 2022: Python program converted to this IPython notebook  \n",
    "\n",
    "## Copyright\n",
    "<a rel=\"license\" href=\"http://creativecommons.org/licenses/by-sa/4.0/\"><img alt=\"Creative Commons License\" style=\"border-width:0\" src=\"https://i.creativecommons.org/l/by-sa/4.0/88x31.png\" /></a><br />This work is licensed under a <a rel=\"license\" href=\"http://creativecommons.org/licenses/by-sa/4.0/\">Creative Commons Attribution-ShareAlike 4.0 International License</a>."
   ]
  },
  {
   "cell_type": "code",
   "execution_count": null,
   "metadata": {},
   "outputs": [],
   "source": []
  }
 ],
 "metadata": {
  "kernelspec": {
   "display_name": "Python 3 (ipykernel)",
   "language": "python",
   "name": "python3"
  },
  "language_info": {
   "codemirror_mode": {
    "name": "ipython",
    "version": 3
   },
   "file_extension": ".py",
   "mimetype": "text/x-python",
   "name": "python",
   "nbconvert_exporter": "python",
   "pygments_lexer": "ipython3",
   "version": "3.10.9"
  }
 },
 "nbformat": 4,
 "nbformat_minor": 4
}
